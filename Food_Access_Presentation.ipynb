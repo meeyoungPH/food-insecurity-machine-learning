{
 "cells": [
  {
   "cell_type": "code",
   "execution_count": null,
   "id": "639beaca",
   "metadata": {},
   "outputs": [],
   "source": [
    "# !pip install RiSE\n",
    "# !pip install nbconvert\n",
    "# !pip install nbformat"
   ]
  },
  {
   "cell_type": "code",
   "execution_count": null,
   "id": "a64cd429",
   "metadata": {},
   "outputs": [],
   "source": [
    "Tableau Dashboard in Progress"
   ]
  },
  {
   "cell_type": "code",
   "execution_count": null,
   "id": "1fcd203d",
   "metadata": {},
   "outputs": [],
   "source": [
    "\n",
    "Please refer below latest Dashboard.\n",
    "https://public.tableau.com/app/profile/dipti7328/viz/FoodSecurity_Dashboard/FoodSecurity_Dashboard?publish=yes\n",
    "IndividualMap\n",
    "1)Tract SNAP SECURE VS INSECURE\n",
    "https://public.tableau.com/app/profile/dipti7328/viz/TractSNAPSECUREVSINSECURE/TractSNAPSECUREVSINSECURE2?publish=yes\n",
    "2)SECUREvsINSECURE_TRACT_HUNV\n",
    "https://public.tableau.com/app/profile/dipti7328/viz/SECUREvsINSECURE_TRACT_HUNV/SECUREvsINSECURE_TRACT_HUNV?publish=yes\n",
    "3)MULTRACE_SECUREvsINSECURE\n",
    "https://public.tableau.com/app/profile/dipti7328/viz/SECUREvsINSECURE_TRACT_HUNV/MULTRACE_SECUREvsINSECURE?publish=yes\n",
    "4)NonProducstiveAgeGroup_SECUREvsINSECURE\n",
    "https://public.tableau.com/app/profile/dipti7328/viz/NonProducstiveAgeGroup_SECUREvsINSECURE/NonProducstiveAgeGroup_SECUREvsINSECURE?publish=yes\n",
    "5)HouseholdIncome_SECUREvsINSECURE\n",
    "https://public.tableau.com/app/profile/dipti7328/viz/HouseholdIncome_SECUREvsINSECURE/HouseholdIncome_SECUREvsINSECURE?publish=yes"
   ]
  },
  {
   "cell_type": "code",
   "execution_count": null,
   "id": "654f5e92",
   "metadata": {},
   "outputs": [],
   "source": []
  },
  {
   "cell_type": "code",
   "execution_count": null,
   "id": "f93925c4",
   "metadata": {},
   "outputs": [],
   "source": []
  }
 ],
 "metadata": {
  "kernelspec": {
   "display_name": "PythonData",
   "language": "python",
   "name": "pythondata"
  },
  "language_info": {
   "codemirror_mode": {
    "name": "ipython",
    "version": 3
   },
   "file_extension": ".py",
   "mimetype": "text/x-python",
   "name": "python",
   "nbconvert_exporter": "python",
   "pygments_lexer": "ipython3",
   "version": "3.7.7"
  }
 },
 "nbformat": 4,
 "nbformat_minor": 5
}
