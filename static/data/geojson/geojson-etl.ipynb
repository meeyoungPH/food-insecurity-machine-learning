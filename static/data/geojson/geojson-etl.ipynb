{
 "cells": [
  {
   "attachments": {},
   "cell_type": "markdown",
   "metadata": {},
   "source": [
    "## Create GeoJSON files from US Census shapefiles\n",
    "#### Census source: https://www2.census.gov/geo/tiger/TIGER2021/TRACT/"
   ]
  },
  {
   "cell_type": "code",
   "execution_count": 4,
   "metadata": {},
   "outputs": [],
   "source": [
    "# dependencies\n",
    "import geopandas as gpd\n",
    "import zipfile\n",
    "import os"
   ]
  },
  {
   "cell_type": "code",
   "execution_count": 5,
   "metadata": {},
   "outputs": [
    {
     "name": "stdout",
     "output_type": "stream",
     "text": [
      "Error: [Errno 2] No such file or directory: '../geojson/tl_2021_03_tract.zip', 3\n",
      "Error: [Errno 2] No such file or directory: '../geojson/tl_2021_07_tract.zip', 7\n",
      "Error: [Errno 2] No such file or directory: '../geojson/tl_2021_14_tract.zip', 14\n",
      "Error: [Errno 2] No such file or directory: '../geojson/tl_2021_43_tract.zip', 43\n",
      "Error: [Errno 2] No such file or directory: '../geojson/tl_2021_52_tract.zip', 52\n",
      "Error: [Errno 2] No such file or directory: '../geojson/tl_2021_57_tract.zip', 57\n",
      "Error: [Errno 2] No such file or directory: '../geojson/tl_2021_58_tract.zip', 58\n",
      "Error: [Errno 2] No such file or directory: '../geojson/tl_2021_59_tract.zip', 59\n",
      "Error: [Errno 2] No such file or directory: '../geojson/tl_2021_61_tract.zip', 61\n",
      "Error: [Errno 2] No such file or directory: '../geojson/tl_2021_62_tract.zip', 62\n",
      "Error: [Errno 2] No such file or directory: '../geojson/tl_2021_63_tract.zip', 63\n",
      "Error: [Errno 2] No such file or directory: '../geojson/tl_2021_64_tract.zip', 64\n",
      "Error: [Errno 2] No such file or directory: '../geojson/tl_2021_65_tract.zip', 65\n",
      "Error: [Errno 2] No such file or directory: '../geojson/tl_2021_67_tract.zip', 67\n",
      "Error: [Errno 2] No such file or directory: '../geojson/tl_2021_68_tract.zip', 68\n",
      "Error: [Errno 2] No such file or directory: '../geojson/tl_2021_70_tract.zip', 70\n",
      "Error: [Errno 2] No such file or directory: '../geojson/tl_2021_71_tract.zip', 71\n",
      "Error: [Errno 2] No such file or directory: '../geojson/tl_2021_73_tract.zip', 73\n",
      "Error: [Errno 2] No such file or directory: '../geojson/tl_2021_74_tract.zip', 74\n",
      "Error: [Errno 2] No such file or directory: '../geojson/tl_2021_75_tract.zip', 75\n",
      "Error: [Errno 2] No such file or directory: '../geojson/tl_2021_76_tract.zip', 76\n",
      "Error: [Errno 2] No such file or directory: '../geojson/tl_2021_77_tract.zip', 77\n"
     ]
    }
   ],
   "source": [
    "# create geojson files from zipped shp file\n",
    "for i in range(1,79):\n",
    "    try:\n",
    "        # format fips codes\n",
    "        if i < 10:\n",
    "            n = f'0{i}'\n",
    "        else:\n",
    "            n = i\n",
    "            \n",
    "        # extract file from zip folder\n",
    "        path = f'../geojson/tl_2021_{n}_tract.zip'\n",
    "        file_shp = f'tl_2021_{n}_tract.shp'\n",
    "        file_shx = f'tl_2021_{n}_tract.shx'\n",
    "        file_dbf = f'tl_2021_{n}_tract.dbf'\n",
    "        file_prj = f'tl_2021_{n}_tract.prj'\n",
    "            \n",
    "        with zipfile.ZipFile(path, 'r') as zf:\n",
    "            zf.extract(file_shp)\n",
    "            zf.extract(file_shx)\n",
    "            zf.extract(file_dbf)\n",
    "            zf.extract(file_prj)\n",
    "            \n",
    "        # convert shp file to geojson\n",
    "        gdf = gpd.read_file(f'../geojson/tl_2021_{n}_tract.shp')\n",
    "        geojson_str = gdf.to_json()\n",
    "            \n",
    "        # save geojson to file\n",
    "        gdf.to_file(f'tl_2021_{n}_tract.geojson', driver='GeoJSON')            \n",
    "                \n",
    "        # remove shp and shx files\n",
    "        os.remove(file_shp)\n",
    "        os.remove(file_shx)\n",
    "        os.remove(file_dbf)\n",
    "        os.remove(file_prj)\n",
    "            \n",
    "    except Exception as e:\n",
    "        print(f'Error: {str(e)}, {i}')"
   ]
  },
  {
   "cell_type": "code",
   "execution_count": null,
   "metadata": {},
   "outputs": [],
   "source": [
    "## to do - add percentages to geosjson records"
   ]
  }
 ],
 "metadata": {
  "kernelspec": {
   "display_name": "Python 3",
   "language": "python",
   "name": "python3"
  },
  "language_info": {
   "codemirror_mode": {
    "name": "ipython",
    "version": 3
   },
   "file_extension": ".py",
   "mimetype": "text/x-python",
   "name": "python",
   "nbconvert_exporter": "python",
   "pygments_lexer": "ipython3",
   "version": "3.10.10"
  },
  "orig_nbformat": 4,
  "vscode": {
   "interpreter": {
    "hash": "75b7b1ee9e03c7943b3e9394e3b9d2b1547020053b48c65a2d85fd95e03bbce6"
   }
  }
 },
 "nbformat": 4,
 "nbformat_minor": 2
}
