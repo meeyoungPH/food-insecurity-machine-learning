{
 "cells": [
  {
   "cell_type": "code",
   "execution_count": 17,
   "metadata": {},
   "outputs": [],
   "source": [
    "# dependencies\n",
    "import overpass\n",
    "import pandas as pd\n",
    "import requests\n",
    "import json\n",
    "from sqlalchemy import create_engine\n",
    "\n",
    "# path for config file (project root folder)\n",
    "import sys\n",
    "sys.path.append('../../../../food-insecurity-machine-learning/')\n",
    "\n",
    "from config import password, protocol, username, host, port, database_name\n"
   ]
  },
  {
   "cell_type": "code",
   "execution_count": 18,
   "metadata": {},
   "outputs": [],
   "source": [
    "# Connection to AWS PostgresSQL Server\n",
    "rds_connection_string = f'{protocol}://{username}:{password}@{host}:{port}/{database_name}'\n",
    "engine = create_engine(rds_connection_string)"
   ]
  },
  {
   "cell_type": "code",
   "execution_count": 19,
   "metadata": {},
   "outputs": [
    {
     "data": {
      "text/html": [
       "<div>\n",
       "<style scoped>\n",
       "    .dataframe tbody tr th:only-of-type {\n",
       "        vertical-align: middle;\n",
       "    }\n",
       "\n",
       "    .dataframe tbody tr th {\n",
       "        vertical-align: top;\n",
       "    }\n",
       "\n",
       "    .dataframe thead th {\n",
       "        text-align: right;\n",
       "    }\n",
       "</style>\n",
       "<table border=\"1\" class=\"dataframe\">\n",
       "  <thead>\n",
       "    <tr style=\"text-align: right;\">\n",
       "      <th></th>\n",
       "      <th>StateFIPS</th>\n",
       "      <th>State</th>\n",
       "    </tr>\n",
       "  </thead>\n",
       "  <tbody>\n",
       "    <tr>\n",
       "      <th>0</th>\n",
       "      <td>01</td>\n",
       "      <td>Alabama</td>\n",
       "    </tr>\n",
       "    <tr>\n",
       "      <th>1</th>\n",
       "      <td>02</td>\n",
       "      <td>Alaska</td>\n",
       "    </tr>\n",
       "    <tr>\n",
       "      <th>2</th>\n",
       "      <td>04</td>\n",
       "      <td>Arizona</td>\n",
       "    </tr>\n",
       "    <tr>\n",
       "      <th>3</th>\n",
       "      <td>05</td>\n",
       "      <td>Arkansas</td>\n",
       "    </tr>\n",
       "    <tr>\n",
       "      <th>4</th>\n",
       "      <td>06</td>\n",
       "      <td>California</td>\n",
       "    </tr>\n",
       "  </tbody>\n",
       "</table>\n",
       "</div>"
      ],
      "text/plain": [
       "  StateFIPS       State\n",
       "0        01     Alabama\n",
       "1        02      Alaska\n",
       "2        04     Arizona\n",
       "3        05    Arkansas\n",
       "4        06  California"
      ]
     },
     "execution_count": 19,
     "metadata": {},
     "output_type": "execute_result"
    }
   ],
   "source": [
    "# get list of states and state fips codes\n",
    "state_df = pd.read_sql_query('select * from state', engine)\n",
    "state_df.head()"
   ]
  },
  {
   "cell_type": "code",
   "execution_count": 20,
   "metadata": {},
   "outputs": [],
   "source": [
    "# define overpass API query\n",
    "api = overpass.API()\n",
    "overpass_query = \"\"\"\n",
    "area[name=\"{state}\"]->.a;\n",
    "(\n",
    "  node(area.a)[\"shop\"=\"convenience\"];\n",
    "  node(area.a)[\"shop\"=\"supermarket\"];\n",
    "  node(area.a)[\"shop\"=\"grocery\"];\n",
    "  node(area.a)[\"shop\"=\"health_food\"];\n",
    "  node(area.a)[\"shop\"=\"organic\"];\n",
    "  node(area.a)[\"amenity\"=\"marketplace\"];\n",
    "  way(area.a)[\"shop\"=\"convenience\"];\n",
    "  way(area.a)[\"shop\"=\"supermarket\"];\n",
    "  way(area.a)[\"shop\"=\"grocery\"];\n",
    "  way(area.a)[\"shop\"=\"health_food\"];\n",
    "  way(area.a)[\"shop\"=\"organic\"];\n",
    "  way(area.a)[\"amenity\"=\"marketplace\"];\n",
    "  relation(area.a)[\"shop\"=\"convenience\"];\n",
    "  relation(area.a)[\"shop\"=\"supermarket\"];\n",
    "  relation(area.a)[\"shop\"=\"grocery\"];\n",
    "  relation(area.a)[\"shop\"=\"health_food\"];\n",
    "  relation(area.a)[\"shop\"=\"organic\"];\n",
    "  relation(area.a)[\"amenity\"=\"marketplace\"];\n",
    ");\n",
    "out;\n",
    "\"\"\""
   ]
  },
  {
   "cell_type": "code",
   "execution_count": 21,
   "metadata": {},
   "outputs": [
    {
     "ename": "UnknownOverpassError",
     "evalue": "Received corrupt data from Overpass (incomplete polygon).",
     "output_type": "error",
     "traceback": [
      "\u001b[1;31m---------------------------------------------------------------------------\u001b[0m",
      "\u001b[1;31mUnknownOverpassError\u001b[0m                      Traceback (most recent call last)",
      "Cell \u001b[1;32mIn [21], line 7\u001b[0m\n\u001b[0;32m      4\u001b[0m query \u001b[39m=\u001b[39m overpass_query\u001b[39m.\u001b[39mformat(state\u001b[39m=\u001b[39mrow[\u001b[39m'\u001b[39m\u001b[39mState\u001b[39m\u001b[39m'\u001b[39m])\n\u001b[0;32m      6\u001b[0m \u001b[39m# make a get request to the overpass query\u001b[39;00m\n\u001b[1;32m----> 7\u001b[0m response \u001b[39m=\u001b[39m api\u001b[39m.\u001b[39;49mget(query)\n\u001b[0;32m      9\u001b[0m \u001b[39m# change to json\u001b[39;00m\n\u001b[0;32m     10\u001b[0m data \u001b[39m=\u001b[39m response\u001b[39m.\u001b[39mjson()\n",
      "File \u001b[1;32m~\\AppData\\Local\\Packages\\PythonSoftwareFoundation.Python.3.10_qbz5n2kfra8p0\\LocalCache\\local-packages\\Python310\\site-packages\\overpass\\api.py:130\u001b[0m, in \u001b[0;36mAPI.get\u001b[1;34m(self, query, responseformat, verbosity, build)\u001b[0m\n\u001b[0;32m    127\u001b[0m     \u001b[39mreturn\u001b[39;00m response\n\u001b[0;32m    129\u001b[0m \u001b[39m# construct geojson\u001b[39;00m\n\u001b[1;32m--> 130\u001b[0m \u001b[39mreturn\u001b[39;00m \u001b[39mself\u001b[39;49m\u001b[39m.\u001b[39;49m_as_geojson(response[\u001b[39m\"\u001b[39;49m\u001b[39melements\u001b[39;49m\u001b[39m\"\u001b[39;49m])\n",
      "File \u001b[1;32m~\\AppData\\Local\\Packages\\PythonSoftwareFoundation.Python.3.10_qbz5n2kfra8p0\\LocalCache\\local-packages\\Python310\\site-packages\\overpass\\api.py:214\u001b[0m, in \u001b[0;36mAPI._as_geojson\u001b[1;34m(self, elements)\u001b[0m\n\u001b[0;32m    212\u001b[0m             polygons\u001b[39m.\u001b[39mappend([points])\n\u001b[0;32m    213\u001b[0m         \u001b[39melse\u001b[39;00m:\n\u001b[1;32m--> 214\u001b[0m             \u001b[39mraise\u001b[39;00m UnknownOverpassError(\u001b[39m\"\u001b[39m\u001b[39mReceived corrupt data from Overpass (incomplete polygon).\u001b[39m\u001b[39m\"\u001b[39m)\n\u001b[0;32m    215\u001b[0m \u001b[39m# Then get the inner polygons\u001b[39;00m\n\u001b[0;32m    216\u001b[0m \u001b[39mfor\u001b[39;00m member \u001b[39min\u001b[39;00m elem\u001b[39m.\u001b[39mget(\u001b[39m\"\u001b[39m\u001b[39mmembers\u001b[39m\u001b[39m\"\u001b[39m, []):\n",
      "\u001b[1;31mUnknownOverpassError\u001b[0m: Received corrupt data from Overpass (incomplete polygon)."
     ]
    }
   ],
   "source": [
    "# loop over each state and retrieve food market data\n",
    "for _, row in state_df.iterrows():\n",
    "    # use state name in query\n",
    "    query = overpass_query.format(state=row['State'])\n",
    "    \n",
    "    # make a get request to the overpass query\n",
    "    response = api.get(query)\n",
    "    \n",
    "    # change to json\n",
    "    data = response.json()\n",
    "    \n",
    "    # save data as a GeoJSON file\n",
    "    with open(f'food_markets_{row[\"StateFIPS\"]}.geojson', \"w\") as f:\n",
    "        json.dump(data, f) \n",
    "    "
   ]
  },
  {
   "cell_type": "code",
   "execution_count": null,
   "metadata": {},
   "outputs": [],
   "source": []
  }
 ],
 "metadata": {
  "kernelspec": {
   "display_name": "Python 3",
   "language": "python",
   "name": "python3"
  },
  "language_info": {
   "codemirror_mode": {
    "name": "ipython",
    "version": 3
   },
   "file_extension": ".py",
   "mimetype": "text/x-python",
   "name": "python",
   "nbconvert_exporter": "python",
   "pygments_lexer": "ipython3",
   "version": "3.10.10"
  },
  "orig_nbformat": 4,
  "vscode": {
   "interpreter": {
    "hash": "75b7b1ee9e03c7943b3e9394e3b9d2b1547020053b48c65a2d85fd95e03bbce6"
   }
  }
 },
 "nbformat": 4,
 "nbformat_minor": 2
}
